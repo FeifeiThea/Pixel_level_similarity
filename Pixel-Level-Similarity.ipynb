{
 "cells": [
  {
   "cell_type": "code",
   "execution_count": 29,
   "id": "a485598c",
   "metadata": {},
   "outputs": [
    {
     "name": "stdout",
     "output_type": "stream",
     "text": [
      "4.8.1\n"
     ]
    }
   ],
   "source": [
    "#import Library\n",
    "import cv2\n",
    "import numpy as np\n",
    "import pafy\n",
    "import os\n",
    "from functools import partial\n",
    "print(cv2.__version__)\n",
    "from multiprocessing.pool import Pool\n",
    "import yt_dlp"
   ]
  },
  {
   "cell_type": "code",
   "execution_count": null,
   "id": "41022e53",
   "metadata": {},
   "outputs": [],
   "source": [
    "##########hand craft variance ananlysis#############\n",
    "####1 comparatively static(not so much visual content)***** possible to filter out\n",
    "####2 dynamic but irrelavent to the caption(most difficult)-object detection\n",
    "\n",
    "#---------------------------------------------------------------------------------\n",
    "#mean difference:\n",
    "#1.take out frame in every 5 seconds(take one frame for every 125 frames)\n",
    "#2.maxpool frames(pool size(2,2))\n",
    "#3.calculate differences between every two neighboor frames(frame[2]-frame[1],frame[3]-frame[2].....)\n",
    "#4.sum up all the differences and then divide the number of frames\n",
    "\n",
    "###\n",
    "#pros:\n",
    "#1.It is fast\n",
    "#### a 10 min video: 120 frames * 320 * 640(size after maxpool)=24576000\n",
    "#2.It can filter out the videos that the frames visually change a little(people talking in the middle of screen all the time)\n",
    "#cons:\n",
    "#1. It will possibly filter out the video that may be useful for train\n",
    "###if the action is at the corner of the screen or the behaviors changing slightly(when cuting the meat, the change between frames only the position of the knife which is thin and dosen't make a large difference between frames, large part of the image don't change a lot and it will gain a low score in this case\n",
    "\n",
    "\n",
    "\n",
    "#Historgram Similarity/SSIM/MSE\n",
    "#slow and computational costly\n"
   ]
  },
  {
   "cell_type": "code",
   "execution_count": 27,
   "id": "cca65704",
   "metadata": {},
   "outputs": [],
   "source": [
    "#convert into frame\n",
    "def FrameCapture(path_url,frame):\n",
    "    \n",
    "    video = pafy.new(path_url)\n",
    "    best = video.getbest(preftype=\"mp4\")\n",
    "    count = 0\n",
    "    onum=0\n",
    "    # Path to video file \n",
    "    vidObj = cv2.VideoCapture(best.url) \n",
    "    success = True\n",
    "    \n",
    "    success, image = vidObj.read() \n",
    "    while success: \n",
    "        # vidObj object calls read \n",
    "        # function extract frames\n",
    "        success, image = vidObj.read()\n",
    "       # grey_image= np.dot(image[...,:3], [0.2989, 0.5870, 0.1140]).astype(np.uint8)\n",
    "        if count%125==0:\n",
    "            frame.append(image)\n",
    "#             success, image = vidObj.read()\n",
    "            onum+=1\n",
    "        count+=1\n",
    "    #print(onum, \" frames extracted\")\n",
    "    frame = np.array(frame)\n",
    "    #print(\"data shape =\\t\", frame.shape)\n",
    "    return frame\n",
    "    \n",
    "    "
   ]
  },
  {
   "cell_type": "code",
   "execution_count": 3,
   "id": "73275d40",
   "metadata": {},
   "outputs": [],
   "source": [
    "good_path='https://www.youtube.com/watch?v=VVJxEengEt8'\n",
    "bad_path='https://www.youtube.com/watch?v=O0U3soa2FY4'"
   ]
  },
  {
   "cell_type": "code",
   "execution_count": 6,
   "id": "835ec279",
   "metadata": {},
   "outputs": [],
   "source": [
    "frame1=[]\n",
    "frame_good=FrameCapture(good_path,frame1)"
   ]
  },
  {
   "cell_type": "code",
   "execution_count": 7,
   "id": "33b0698f",
   "metadata": {},
   "outputs": [],
   "source": [
    "frame2=[]\n",
    "frame_bad=FrameCapture(bad_path,frame2)"
   ]
  },
  {
   "cell_type": "markdown",
   "id": "f4cc87ca",
   "metadata": {},
   "source": [
    "onum"
   ]
  },
  {
   "cell_type": "code",
   "execution_count": 4,
   "id": "6d50eeb7",
   "metadata": {},
   "outputs": [],
   "source": [
    "#maxpool\n",
    "#1915/4\n",
    "import torch\n",
    "import torch.nn.functional as F\n",
    "import numpy as np\n",
    "\n",
    "# Sample RGB image as a TensorFlow tensor\n",
    "def maxpool4(frame,size):\n",
    "    # Convert the NumPy array to a PyTorch tensor\n",
    "    image_tensor = torch.from_numpy(frame).permute(2, 0, 1).unsqueeze(0).float()\n",
    "\n",
    "    # Define the pooling size (e.g., 2x2)\n",
    "    pool_size = (size, size)\n",
    "\n",
    "    # Perform max pooling\n",
    "    pooled_image_tensor = F.max_pool2d(image_tensor, pool_size)\n",
    "\n",
    "    # Convert the result back to a NumPy array for visualization\n",
    "    pooled_image = pooled_image_tensor.squeeze(0).permute(1, 2, 0).numpy()\n",
    "\n",
    "    # The 'pooled_image' now contains the result of spatial max pooling\n",
    "    #print(pooled_image)\n",
    "    return pooled_image\n"
   ]
  },
  {
   "cell_type": "code",
   "execution_count": null,
   "id": "465d88d0",
   "metadata": {},
   "outputs": [],
   "source": [
    "mp_image1=maxpool4(frame1[1],2)"
   ]
  },
  {
   "cell_type": "code",
   "execution_count": 5,
   "id": "24efc110",
   "metadata": {},
   "outputs": [],
   "source": [
    "#maxpool frames in an video(1/8 of all the frame)\n",
    "\n",
    "def maxpool_allframeInvideo(frame_arr,size):\n",
    "    maxpool_frameArr=[]\n",
    "    for frame in frame_arr:\n",
    "        pooled_frame=maxpool4(frame,size)\n",
    "        maxpool_frameArr.append(pooled_frame)\n",
    "    \n",
    "    return maxpool_frameArr\n",
    "        "
   ]
  },
  {
   "cell_type": "code",
   "execution_count": 12,
   "id": "38eb7b7a",
   "metadata": {},
   "outputs": [],
   "source": [
    "pooled_frameArr=maxpool_allframeInvideo(frame1,2)"
   ]
  },
  {
   "cell_type": "code",
   "execution_count": 13,
   "id": "e1d622a6",
   "metadata": {},
   "outputs": [],
   "source": [
    "pooled_frameArr_bad=maxpool_allframeInvideo(frame2,2)"
   ]
  },
  {
   "cell_type": "code",
   "execution_count": 6,
   "id": "de1333d7",
   "metadata": {},
   "outputs": [],
   "source": [
    "#deduction\n",
    "\n",
    "def deduction(pooled_frameArr):\n",
    "    deducted_arr=[]\n",
    "    for i in range(len(pooled_frameArr)-1):\n",
    "        deducted_frame=abs(pooled_frameArr[i+1]-pooled_frameArr[i])\n",
    "        deducted_arr.append(deducted_frame)\n",
    "    return deducted_arr\n",
    "        "
   ]
  },
  {
   "cell_type": "code",
   "execution_count": 14,
   "id": "7a10559c",
   "metadata": {},
   "outputs": [],
   "source": [
    "deducted_frames=deduction(pooled_frameArr)"
   ]
  },
  {
   "cell_type": "code",
   "execution_count": 15,
   "id": "f184457d",
   "metadata": {},
   "outputs": [],
   "source": [
    "deducted_frames_bad=deduction(pooled_frameArr_bad)"
   ]
  },
  {
   "cell_type": "code",
   "execution_count": 7,
   "id": "da022151",
   "metadata": {},
   "outputs": [],
   "source": [
    "#variance ananlysis\n",
    "### sum differences in all the deducted frame and divide the # of deducted frame\n",
    "def addAlldifference_divideNumframe(deducted_frames):\n",
    "    cursum=0\n",
    "    AllSum=0\n",
    "    meanDifference=0\n",
    "    for frame in deducted_frames:\n",
    "        cursum=sum(sum(sum(frame)))\n",
    "        AllSum+=cursum\n",
    "    meanDifference=AllSum/len(deducted_frames)\n",
    "    return meanDifference"
   ]
  },
  {
   "cell_type": "code",
   "execution_count": 16,
   "id": "b966ebd8",
   "metadata": {},
   "outputs": [
    {
     "data": {
      "text/plain": [
       "49617256.336065575"
      ]
     },
     "execution_count": 16,
     "metadata": {},
     "output_type": "execute_result"
    }
   ],
   "source": [
    "mean_diff=addAlldifference_divideNumframe(deducted_frames)\n",
    "mean_diff"
   ]
  },
  {
   "cell_type": "code",
   "execution_count": 17,
   "id": "a0cc7d6b",
   "metadata": {},
   "outputs": [
    {
     "data": {
      "text/plain": [
       "9666187.60130719"
      ]
     },
     "execution_count": 17,
     "metadata": {},
     "output_type": "execute_result"
    }
   ],
   "source": [
    "mean_diff_bad=addAlldifference_divideNumframe(deducted_frames_bad)\n",
    "mean_diff_bad"
   ]
  },
  {
   "cell_type": "code",
   "execution_count": 18,
   "id": "bd41f15a",
   "metadata": {},
   "outputs": [
    {
     "data": {
      "text/plain": [
       "5.133074008345925"
      ]
     },
     "execution_count": 18,
     "metadata": {},
     "output_type": "execute_result"
    }
   ],
   "source": [
    "mean_diff/mean_diff_bad"
   ]
  },
  {
   "cell_type": "code",
   "execution_count": 66,
   "id": "bdd32f61",
   "metadata": {},
   "outputs": [
    {
     "data": {
      "text/plain": [
       "5.062812763194205"
      ]
     },
     "execution_count": 66,
     "metadata": {},
     "output_type": "execute_result"
    }
   ],
   "source": [
    "mean_diff/mean_diff_bad"
   ]
  },
  {
   "cell_type": "code",
   "execution_count": null,
   "id": "5a609478",
   "metadata": {},
   "outputs": [],
   "source": [
    "grey_mDiff=final('https://www.youtube.com/watch?v=VVJxEengEt8',2)\n",
    "grey_mDiff"
   ]
  },
  {
   "cell_type": "code",
   "execution_count": null,
   "id": "98c4604f",
   "metadata": {},
   "outputs": [],
   "source": [
    "grey_mDiff_bad=final('https://www.youtube.com/watch?v=O0U3soa2FY4',2)\n",
    "grey_mDiff_bad"
   ]
  },
  {
   "cell_type": "code",
   "execution_count": 19,
   "id": "d913cefe",
   "metadata": {},
   "outputs": [],
   "source": [
    "###integrate all the function into one\n",
    "def final(path_url,size):\n",
    "    original_frame=[]\n",
    "    frames=FrameCapture(path_url,original_frame)\n",
    "    pooled_frameArr=maxpool_allframeInvideo(frames,size)\n",
    "    deducted_frames=deduction(pooled_frameArr)\n",
    "    mean_diff=addAlldifference_divideNumframe(deducted_frames)\n",
    "    return mean_diff\n",
    "    "
   ]
  },
  {
   "cell_type": "code",
   "execution_count": 11,
   "id": "d91675ed",
   "metadata": {},
   "outputs": [
    {
     "name": "stdout",
     "output_type": "stream",
     "text": [
      "62  frames extracted\n",
      "data shape =\t (62, 720, 1280, 3)\n"
     ]
    },
    {
     "data": {
      "text/plain": [
       "56332116.78688525"
      ]
     },
     "execution_count": 11,
     "metadata": {},
     "output_type": "execute_result"
    }
   ],
   "source": [
    "good=final('https://www.youtube.com/watch?v=VVJxEengEt8',2)\n",
    "good"
   ]
  },
  {
   "cell_type": "code",
   "execution_count": 17,
   "id": "00e58594",
   "metadata": {},
   "outputs": [],
   "source": [
    "######  test  #########\n",
    "v_list_move = [\n",
    "    \"i49TpqT2bps\",\n",
    "    \"ibIYI4A_1PU\",\n",
    "    \"nQRRtfv32Cs\",\n",
    "    \"wdMEFFNou3Y\",\n",
    "    \"jN1iAqW_SAY\",\n",
    "    \"R2XlDqK6QYs\",\n",
    "\n",
    "\t\"Pp395_y5iAY\",\n",
    "\t\"XkPO0aGiwY8\",\n",
    "\t\"CiqD1W_xcs4\",\n",
    "    \"Xn_7rwAHpPs\",\n",
    "    \"8eBU4QfrFL4\",\n",
    "    \"1-jnsbRQYCM\",\n",
    "    \"V7xk-kgpZmk\",\n",
    "    \"qB-E8q3yK4Q\",\n",
    "    \"ke0YxzcZ1w4\",\n",
    "    \"OGilPWdaikI\",\n",
    "    \"9FSubSIXleo\",\n",
    "    \"RHbDxf4EKb0\",\n",
    "    \"jGuN68Z9rAY\",\n",
    "    \"n1MIslYNju8\",\n",
    "    \"McgjTFyCTfA\",\n",
    "    \"qTPKGVrFtQU\",\n",
    "    \"Q_EAYzJFt2g\",\n",
    "    \"NM08R4kWcB8\",\n",
    "    \"kMsWyPjRUZE\",\n",
    "    \"IsS_d1FUJRU\",\n",
    "    \"Ac533ZkHD5I\",\n",
    "    \"ZNSwYGkDtNY\",\n",
    "    \"6-GlYzwQkt8\",\n",
    "    \n",
    "    \n",
    "    \n",
    "    \n",
    "    \n",
    "]"
   ]
  },
  {
   "cell_type": "code",
   "execution_count": 18,
   "id": "1fcf124b",
   "metadata": {},
   "outputs": [],
   "source": [
    "v_list_bad=[\"IJarJcOY8uU\",\"LN9RYIR2GyA\",\"ez7kowCEiSw\",\"zhL4N9uXQO4\",\"33te_Pqn9CY\",\"Xz-6Is4FsP8\"]\n",
    "v_list_static=[\"IJarJcOY8uU\",\"LN9RYIR2GyA\",\"zhL4N9uXQO4\",\"33te_Pqn9CY\",\"O0U3soa2FY4\",\"Hv0lzJZkfqU\",\"XTaBAksP1d8\",\"vFmSrHcm1_0\",\"su7G18Flmpg\",\"wzYeeEq_bpE\",\"ABdevFdahy4\",\"RBmeiMZQLsA\",\"fEMqCktQEJo\",\"H9jjNPfeWmA\",\"8LX4earN0gY\",\"obPT0w4LPow\",\"pSlCKuSSdkA\",\"nFMunlQ4ZrM\",\"S1-xgIAVK4s\",\"TtA4Txii0us\",\"P5lDJYAsy_E\",\"xbSp0TxZpM4\",\"TtTsNNXrRU0\",\"NQU7dxNJZEs\",\"Vbia3YSI3pY\"]\n"
   ]
  },
  {
   "cell_type": "code",
   "execution_count": 13,
   "id": "bd6c4f91",
   "metadata": {},
   "outputs": [
    {
     "data": {
      "text/plain": [
       "25"
      ]
     },
     "execution_count": 13,
     "metadata": {},
     "output_type": "execute_result"
    }
   ],
   "source": [
    "len(v_list_move)"
   ]
  },
  {
   "cell_type": "code",
   "execution_count": 16,
   "id": "be5448d0",
   "metadata": {},
   "outputs": [
    {
     "data": {
      "text/plain": [
       "25"
      ]
     },
     "execution_count": 16,
     "metadata": {},
     "output_type": "execute_result"
    }
   ],
   "source": [
    "len(v_list_static)"
   ]
  },
  {
   "cell_type": "code",
   "execution_count": 25,
   "id": "cc9f7a86",
   "metadata": {},
   "outputs": [],
   "source": [
    "### concatinate the vid with website\n",
    "def concate(vid):\n",
    "    web_url='https://www.youtube.com/watch?v='+vid\n",
    "    return web_url"
   ]
  },
  {
   "cell_type": "code",
   "execution_count": 21,
   "id": "59b0ea52",
   "metadata": {},
   "outputs": [],
   "source": [
    "### get all video mean difference\n",
    "\n",
    "def get_allVideo_mean_differenceInlist(v_list):\n",
    "    v_meanDiff_list=[]\n",
    "    for v in v_list:\n",
    "        url=concate(v)\n",
    "        difference_mean=final(url,2)\n",
    "        #print(v+\":\"+difference_mean)\n",
    "        video_info = {\n",
    "        \"vid: \": v,\n",
    "        \"difference mean: \": difference_mean\n",
    "        }\n",
    "        v_meanDiff_list.append(video_info)\n",
    "    return v_meanDiff_list"
   ]
  },
  {
   "cell_type": "code",
   "execution_count": 24,
   "id": "45b4939e",
   "metadata": {},
   "outputs": [],
   "source": [
    "v_info=get_allVideo_mean_differenceInlist(v_list)"
   ]
  },
  {
   "cell_type": "code",
   "execution_count": 25,
   "id": "13346e00",
   "metadata": {},
   "outputs": [
    {
     "data": {
      "text/plain": [
       "[{'vid: ': 'i49TpqT2bps', 'difference mean: ': 37507184.2992126},\n",
       " {'vid: ': 'ibIYI4A_1PU', 'difference mean: ': 28798096.516666666},\n",
       " {'vid: ': 'nQRRtfv32Cs', 'difference mean: ': 30344906.454545453},\n",
       " {'vid: ': 'wdMEFFNou3Y', 'difference mean: ': 40857938.244186044},\n",
       " {'vid: ': 'jN1iAqW_SAY', 'difference mean: ': 22698766.144144144},\n",
       " {'vid: ': 'R2XlDqK6QYs', 'difference mean: ': 16486677.852173913},\n",
       " {'vid: ': 'Pp395_y5iAY', 'difference mean: ': 7567390.678571428},\n",
       " {'vid: ': 'XkPO0aGiwY8', 'difference mean: ': 19182651.22047244},\n",
       " {'vid: ': 'CiqD1W_xcs4', 'difference mean: ': 35514837.282608695}]"
      ]
     },
     "execution_count": 25,
     "metadata": {},
     "output_type": "execute_result"
    }
   ],
   "source": [
    "v_info"
   ]
  },
  {
   "cell_type": "code",
   "execution_count": 30,
   "id": "4425bc75",
   "metadata": {},
   "outputs": [],
   "source": [
    "v_info_bad=get_allVideo_mean_differenceInlist(v_list_bad)"
   ]
  },
  {
   "cell_type": "code",
   "execution_count": 31,
   "id": "e7cb4faf",
   "metadata": {},
   "outputs": [
    {
     "data": {
      "text/plain": [
       "[{'vid: ': 'IJarJcOY8uU', 'difference mean: ': 27775114.38414634},\n",
       " {'vid: ': 'LN9RYIR2GyA', 'difference mean: ': 22125565.98924731},\n",
       " {'vid: ': 'ez7kowCEiSw', 'difference mean: ': 30910995.388349514},\n",
       " {'vid: ': 'zhL4N9uXQO4', 'difference mean: ': 12267539.783018868},\n",
       " {'vid: ': '33te_Pqn9CY', 'difference mean: ': 20204433.638095237},\n",
       " {'vid: ': 'Xz-6Is4FsP8', 'difference mean: ': 48168809.470198676}]"
      ]
     },
     "execution_count": 31,
     "metadata": {},
     "output_type": "execute_result"
    }
   ],
   "source": [
    "v_info_bad"
   ]
  },
  {
   "cell_type": "code",
   "execution_count": 19,
   "id": "7fc40497",
   "metadata": {},
   "outputs": [],
   "source": [
    "#####variance######\n",
    "###Historgram-based\n",
    "#two-similarity\n",
    "import cv2\n",
    "# Load images\n",
    "def hist_similarity(image1,image2):\n",
    "    #image1 = cv2.imread(image1)\n",
    "    #image2 = cv2.imread(image2)\n",
    "    hist_img1 = cv2.calcHist([image1], [0, 1, 2], None, [256, 256, 256], [0, 256, 0, 256, 0, 256])\n",
    "    hist_img1[255, 255, 255] = 0 #ignore all white pixels\n",
    "    cv2.normalize(hist_img1, hist_img1, alpha=0, beta=1, norm_type=cv2.NORM_MINMAX)\n",
    "    hist_img2 = cv2.calcHist([image2], [0, 1, 2], None, [256, 256, 256], [0, 256, 0, 256, 0, 256])\n",
    "    hist_img2[255, 255, 255] = 0  #ignore all white pixels\n",
    "    cv2.normalize(hist_img2, hist_img2, alpha=0, beta=1, norm_type=cv2.NORM_MINMAX)\n",
    "    # Find the metric value\n",
    "    metric_val = cv2.compareHist(hist_img1, hist_img2, cv2.HISTCMP_CORREL)\n",
    "    #print(f\"Similarity Score: \", round(metric_val, 2))\n",
    "    return metric_val"
   ]
  },
  {
   "cell_type": "code",
   "execution_count": 20,
   "id": "8b96c912",
   "metadata": {},
   "outputs": [],
   "source": [
    "similarity_matrix=[]\n",
    "def get_similarity_matrix(frames):\n",
    "    similarity_matrix=[]\n",
    "    for frame in frames:\n",
    "        sim_arr=[]\n",
    "        for other in frames:\n",
    "            similarity=hist_similarity(frame,other)\n",
    "            sim_arr.append(similarity)\n",
    "        similarity_matrix.append(sim_arr)\n",
    "    return similarity_matrix            "
   ]
  },
  {
   "cell_type": "code",
   "execution_count": 21,
   "id": "32a8b78b",
   "metadata": {},
   "outputs": [],
   "source": [
    "def get_similarity_matrix_neibor(frames):\n",
    "    similarity_matrix=[]\n",
    "    for i in range(len(frames)-1):\n",
    "        similarity=hist_similarity(frames[i],frames[i+1])\n",
    "        similarity_matrix.append(similarity)\n",
    "    return similarity_matrix  "
   ]
  },
  {
   "cell_type": "code",
   "execution_count": null,
   "id": "c42af86c",
   "metadata": {},
   "outputs": [],
   "source": [
    "simMatrix_good1=get_similarity_matrix_neibor(frame1)\n",
    "simMatrix_good1"
   ]
  },
  {
   "cell_type": "code",
   "execution_count": 41,
   "id": "56cd2a11",
   "metadata": {},
   "outputs": [
    {
     "data": {
      "text/plain": [
       "0.10411963990240672"
      ]
     },
     "execution_count": 41,
     "metadata": {},
     "output_type": "execute_result"
    }
   ],
   "source": [
    "sum(simMatrix_good1)/len(frame1)"
   ]
  },
  {
   "cell_type": "code",
   "execution_count": null,
   "id": "9b5ca3c1",
   "metadata": {},
   "outputs": [],
   "source": [
    "simMatrix_bad1=get_similarity_matrix_neibor(frame2)\n",
    "simMatrix_bad1"
   ]
  },
  {
   "cell_type": "code",
   "execution_count": 43,
   "id": "3cf5bdb6",
   "metadata": {},
   "outputs": [
    {
     "data": {
      "text/plain": [
       "0.8436315432143237"
      ]
     },
     "execution_count": 43,
     "metadata": {},
     "output_type": "execute_result"
    }
   ],
   "source": [
    "sum(simMatrix_bad1)/len(frame2)"
   ]
  },
  {
   "cell_type": "code",
   "execution_count": 23,
   "id": "dcbabd6f",
   "metadata": {},
   "outputs": [],
   "source": [
    "def get_allVideo_mean_differenceInlist_his(v_list):\n",
    "    v_meanDiff_list=[]\n",
    "    for v in v_list:\n",
    "        frame=[]\n",
    "        url=concate(v)\n",
    "        frames=FrameCapture(url,frame)\n",
    "        his_sim=sum(get_similarity_matrix_neibor(frames))/len(frames)\n",
    "        #print(v+\":\"+difference_mean)\n",
    "        video_info = {\n",
    "        \"vid: \": v,\n",
    "        \"difference mean: \": his_sim\n",
    "        }\n",
    "        v_meanDiff_list.append(video_info)\n",
    "    return v_meanDiff_list"
   ]
  },
  {
   "cell_type": "code",
   "execution_count": 49,
   "id": "d9ccd619",
   "metadata": {},
   "outputs": [],
   "source": [
    "his_similarity_vlist=get_allVideo_mean_differenceInlist_his(v_list)"
   ]
  },
  {
   "cell_type": "code",
   "execution_count": 50,
   "id": "3de27743",
   "metadata": {},
   "outputs": [
    {
     "data": {
      "text/plain": [
       "[{'vid: ': 'i49TpqT2bps', 'difference mean: ': 0.34942621317975764},\n",
       " {'vid: ': 'ibIYI4A_1PU', 'difference mean: ': 0.5719245972595263},\n",
       " {'vid: ': 'nQRRtfv32Cs', 'difference mean: ': 0.5541197916428751},\n",
       " {'vid: ': 'wdMEFFNou3Y', 'difference mean: ': 0.21648792259457214},\n",
       " {'vid: ': 'jN1iAqW_SAY', 'difference mean: ': 0.5764511052026678},\n",
       " {'vid: ': 'R2XlDqK6QYs', 'difference mean: ': 0.7227266130453698},\n",
       " {'vid: ': 'Pp395_y5iAY', 'difference mean: ': 0.2878323549453478},\n",
       " {'vid: ': 'XkPO0aGiwY8', 'difference mean: ': 0.36189257984169004},\n",
       " {'vid: ': 'CiqD1W_xcs4', 'difference mean: ': 0.27532993477606094}]"
      ]
     },
     "execution_count": 50,
     "metadata": {},
     "output_type": "execute_result"
    }
   ],
   "source": [
    "his_similarity_vlist"
   ]
  },
  {
   "cell_type": "code",
   "execution_count": 54,
   "id": "b23dc24f",
   "metadata": {},
   "outputs": [],
   "source": [
    "his_similarity_vlist2=get_allVideo_mean_differenceInlist_his(v_list_bad)"
   ]
  },
  {
   "cell_type": "code",
   "execution_count": 15,
   "id": "e339afe0",
   "metadata": {},
   "outputs": [
    {
     "ename": "NameError",
     "evalue": "name 'his_similarity_vlist2' is not defined",
     "output_type": "error",
     "traceback": [
      "\u001b[0;31m---------------------------------------------------------------------------\u001b[0m",
      "\u001b[0;31mNameError\u001b[0m                                 Traceback (most recent call last)",
      "Input \u001b[0;32mIn [15]\u001b[0m, in \u001b[0;36m<cell line: 1>\u001b[0;34m()\u001b[0m\n\u001b[0;32m----> 1\u001b[0m \u001b[43mhis_similarity_vlist2\u001b[49m\n",
      "\u001b[0;31mNameError\u001b[0m: name 'his_similarity_vlist2' is not defined"
     ]
    }
   ],
   "source": [
    "his_similarity_vlist2"
   ]
  },
  {
   "cell_type": "code",
   "execution_count": null,
   "id": "06e5ea82",
   "metadata": {},
   "outputs": [],
   "source": [
    "simMatrix_good=get_similarity_matrix(frame1)\n",
    "simMatrix_good"
   ]
  },
  {
   "cell_type": "code",
   "execution_count": null,
   "id": "811c3dac",
   "metadata": {},
   "outputs": [],
   "source": [
    "simMatrix_bad=get_similarity_matrix(frame2)\n",
    "simMatrix_bad"
   ]
  },
  {
   "cell_type": "code",
   "execution_count": null,
   "id": "24a5e54e",
   "metadata": {},
   "outputs": [],
   "source": [
    "###Structural Similarity Index (SSIM)\n",
    "from skimage import metrics\n",
    "# Load images\n",
    "def SSIM_similarity(image1, image2):\n",
    "    image2 = cv2.resize(image2, (image1.shape[1], image1.shape[0]), interpolation = cv2.INTER_AREA)\n",
    "    print(image1.shape, image2.shape)\n",
    "    # Convert images to grayscale\n",
    "    image1_gray = cv2.cvtColor(image1, cv2.COLOR_BGR2GRAY)\n",
    "    image2_gray = cv2.cvtColor(image2, cv2.COLOR_BGR2GRAY)\n",
    "    # Calculate SSIM\n",
    "    ssim_score = metrics.structural_similarity(image1_gray, image2_gray, full=True)\n",
    "    print(f\"SSIM Score: \", round(ssim_score[0], 2))"
   ]
  },
  {
   "cell_type": "code",
   "execution_count": null,
   "id": "110c2c7f",
   "metadata": {},
   "outputs": [],
   "source": [
    "def get_similarity_matrix_SSIM(frames):\n",
    "    similarity_matrix=[]\n",
    "    for frame in frames:\n",
    "        sim_arr=[]\n",
    "        for other in frames:\n",
    "            similarity=SSIM_similarity(frame,other)\n",
    "            sim_arr.append(similarity)\n",
    "        similarity_matrix.append(sim_arr)\n",
    "    return similarity_matrix "
   ]
  },
  {
   "cell_type": "code",
   "execution_count": null,
   "id": "28a66afc",
   "metadata": {},
   "outputs": [],
   "source": [
    "###MSE\n",
    "def MSE_similarity(image1, image2):\n",
    "    mse = metrics.mean_squared_error(image1, image2)\n",
    "    return mse"
   ]
  },
  {
   "cell_type": "code",
   "execution_count": null,
   "id": "bbb6926d",
   "metadata": {},
   "outputs": [],
   "source": [
    "def get_similarity_matrix_MSE(frames):\n",
    "    similarity_matrix=[]\n",
    "    for frame in frames:\n",
    "        sim_arr=[]\n",
    "        for other in frames:\n",
    "            similarity=MSE_similarity(frame,other)\n",
    "            sim_arr.append(similarity)\n",
    "        similarity_matrix.append(sim_arr)\n",
    "    return similarity_matrix"
   ]
  },
  {
   "cell_type": "code",
   "execution_count": null,
   "id": "9d78d087",
   "metadata": {},
   "outputs": [],
   "source": [
    "#######test########\n",
    "###compare the performance of moving and static video"
   ]
  },
  {
   "cell_type": "code",
   "execution_count": 1,
   "id": "fc008f6c",
   "metadata": {},
   "outputs": [
    {
     "name": "stdout",
     "output_type": "stream",
     "text": [
      "4.8.1\n"
     ]
    }
   ],
   "source": [
    "#####all code needed for it\n",
    "#import Library\n",
    "import cv2\n",
    "import numpy as np\n",
    "import pafy\n",
    "import os\n",
    "from functools import partial\n",
    "print(cv2.__version__)\n",
    "from multiprocessing.pool import Pool\n",
    "import yt_dlp\n",
    "\n",
    "#convert into frame\n",
    "def FrameCapture(path_url,frame):\n",
    "    \n",
    "    video = pafy.new(path_url)\n",
    "    best = video.getbest(preftype=\"mp4\")\n",
    "    count = 0\n",
    "    onum=0\n",
    "    # Path to video file \n",
    "    vidObj = cv2.VideoCapture(best.url) \n",
    "    success = True\n",
    "    \n",
    "    success, image = vidObj.read() \n",
    "    while success: \n",
    "        success, image = vidObj.read()\n",
    "       # grey_image= np.dot(image[...,:3], [0.2989, 0.5870, 0.1140]).astype(np.uint8)\n",
    "        if count%125==0:\n",
    "            frame.append(image)\n",
    "            onum+=1\n",
    "        count+=1\n",
    "    #print(onum, \" frames extracted\")\n",
    "    frame = np.array(frame)\n",
    "    #print(\"data shape =\\t\", frame.shape)\n",
    "    return frame\n",
    "\n",
    "\n",
    "### concatinate the vid with website\n",
    "def concate(vid):\n",
    "    web_url='https://www.youtube.com/watch?v='+vid\n",
    "    return web_url\n",
    "\n",
    "\n",
    "\n",
    "###Historgram-based\n",
    "#two-similarity\n",
    "import cv2\n",
    "# Load images\n",
    "def hist_similarity(image1,image2):\n",
    "    #image1 = cv2.imread(image1)\n",
    "    #image2 = cv2.imread(image2)\n",
    "    hist_img1 = cv2.calcHist([image1], [0, 1, 2], None, [256, 256, 256], [0, 256, 0, 256, 0, 256])\n",
    "    hist_img1[255, 255, 255] = 0 \n",
    "    cv2.normalize(hist_img1, hist_img1, alpha=0, beta=1, norm_type=cv2.NORM_MINMAX)\n",
    "    hist_img2 = cv2.calcHist([image2], [0, 1, 2], None, [256, 256, 256], [0, 256, 0, 256, 0, 256])\n",
    "    hist_img2[255, 255, 255] = 0  \n",
    "    cv2.normalize(hist_img2, hist_img2, alpha=0, beta=1, norm_type=cv2.NORM_MINMAX)\n",
    "    # Find the metric value\n",
    "    metric_val = cv2.compareHist(hist_img1, hist_img2, cv2.HISTCMP_CORREL)\n",
    "    #print(f\"Similarity Score: \", round(metric_val, 2))\n",
    "    return metric_val\n",
    "\n",
    "\n",
    "\n",
    "def get_similarity_matrix_neibor(frames):\n",
    "    similarity_matrix=[]\n",
    "    for i in range(len(frames)-1):\n",
    "        similarity=hist_similarity(frames[i],frames[i+1])\n",
    "        similarity_matrix.append(similarity)\n",
    "    return similarity_matrix \n",
    "\n",
    "\n",
    "def get_allVideo_mean_differenceInlist_his(v_list):\n",
    "    v_meanDiff_list=[]\n",
    "    for v in v_list:\n",
    "        frame=[]\n",
    "        url=concate(v)\n",
    "        frames=FrameCapture(url,frame)\n",
    "        his_sim=sum(get_similarity_matrix_neibor(frames))/len(frames)\n",
    "        #print(v+\":\"+difference_mean)\n",
    "        video_info = {\n",
    "        \"vid: \": v,\n",
    "        \"difference mean: \": his_sim\n",
    "        }\n",
    "        v_meanDiff_list.append(video_info)\n",
    "    return v_meanDiff_list"
   ]
  },
  {
   "cell_type": "code",
   "execution_count": null,
   "id": "967336bd",
   "metadata": {},
   "outputs": [],
   "source": [
    "his_similarity_vlist_move=get_allVideo_mean_differenceInlist_his(v_list_move)"
   ]
  },
  {
   "cell_type": "code",
   "execution_count": 236,
   "id": "535af4fd",
   "metadata": {},
   "outputs": [
    {
     "data": {
      "text/plain": [
       "0.5653045084324018"
      ]
     },
     "execution_count": 236,
     "metadata": {},
     "output_type": "execute_result"
    }
   ],
   "source": [
    "frame=[]\n",
    "sum(get_similarity_matrix_neibor(FrameCapture(concate(v_list_static[24]),frame)))/len(frame)"
   ]
  },
  {
   "cell_type": "code",
   "execution_count": null,
   "id": "4684a0dd",
   "metadata": {},
   "outputs": [],
   "source": []
  },
  {
   "cell_type": "code",
   "execution_count": 234,
   "id": "3dc881c4",
   "metadata": {},
   "outputs": [],
   "source": [
    "video_info = {\n",
    "        \"vid: \": \"NQU7dxNJZEs\",\n",
    "        \"difference mean: \": 0.8320166385714032\n",
    "        }\n",
    "\n",
    "##NQU7dxNJZEs: 0.16172713255957083\n",
    "##Vbia3YSI3pY: 0.5653045084324018"
   ]
  },
  {
   "cell_type": "code",
   "execution_count": 237,
   "id": "a804f7b3",
   "metadata": {},
   "outputs": [],
   "source": [
    "n['NQU7dxNJZEs'] = 0.16172713255957083\n",
    "n['Vbia3YSI3pY'] = 0.5653045084324018\n"
   ]
  },
  {
   "cell_type": "code",
   "execution_count": 46,
   "id": "a160ec88",
   "metadata": {},
   "outputs": [
    {
     "data": {
      "text/plain": [
       "0.2962962962962963"
      ]
     },
     "execution_count": 46,
     "metadata": {},
     "output_type": "execute_result"
    }
   ],
   "source": [
    "sum([m[k] > 0.55 for k in m.keys()])/len(m.keys())"
   ]
  },
  {
   "cell_type": "code",
   "execution_count": 50,
   "id": "c1b1808d",
   "metadata": {},
   "outputs": [
    {
     "data": {
      "text/plain": [
       "14"
      ]
     },
     "execution_count": 50,
     "metadata": {},
     "output_type": "execute_result"
    }
   ],
   "source": [
    "sum([n[k] > 0.55 for k in n.keys()])"
   ]
  },
  {
   "cell_type": "code",
   "execution_count": 48,
   "id": "fd7496a6",
   "metadata": {},
   "outputs": [
    {
     "data": {
      "text/plain": [
       "0.7368421052631579"
      ]
     },
     "execution_count": 48,
     "metadata": {},
     "output_type": "execute_result"
    }
   ],
   "source": [
    "sum([n[k] > 0.55 for k in n.keys()])/len(n.keys())"
   ]
  },
  {
   "cell_type": "code",
   "execution_count": 28,
   "id": "1190412a",
   "metadata": {},
   "outputs": [
    {
     "data": {
      "text/plain": [
       "19"
      ]
     },
     "execution_count": 28,
     "metadata": {},
     "output_type": "execute_result"
    }
   ],
   "source": [
    "len(n)"
   ]
  },
  {
   "cell_type": "code",
   "execution_count": 2,
   "id": "9b723468",
   "metadata": {},
   "outputs": [],
   "source": [
    "import json\n",
    "m = json.load(open('moved_video.json', 'rb'))"
   ]
  },
  {
   "cell_type": "code",
   "execution_count": 23,
   "id": "dee2c409",
   "metadata": {},
   "outputs": [
    {
     "data": {
      "image/png": "[encoded data removed]",
      "text/plain": [
       "<Figure size 432x288 with 1 Axes>"
      ]
     },
     "metadata": {
      "needs_background": "light"
     },
     "output_type": "display_data"
    }
   ],
   "source": [
    "import matplotlib.pyplot as plt\n",
    "data_m = [m[k] for k in m.keys()]\n",
    "data_n = [n[k] for k in n.keys()]\n",
    "data = [data_m, data_n]\n",
    "plt.boxplot(data,labels=['moving video','static/people talking video'])\n",
    "\n",
    "plt.xlabel('Type of movies')\n",
    "plt.ylabel('Similarity Mean')\n",
    "plt.title('Box Plots of Two Datasets')\n",
    "plt.grid(axis='y')\n",
    "plt.show()"
   ]
  },
  {
   "cell_type": "code",
   "execution_count": 52,
   "id": "b791fbc5",
   "metadata": {},
   "outputs": [
    {
     "ename": "TypeError",
     "evalue": "scatter() missing 1 required positional argument: 'y'",
     "output_type": "error",
     "traceback": [
      "\u001b[0;31m---------------------------------------------------------------------------\u001b[0m",
      "\u001b[0;31mTypeError\u001b[0m                                 Traceback (most recent call last)",
      "Input \u001b[0;32mIn [52]\u001b[0m, in \u001b[0;36m<cell line: 1>\u001b[0;34m()\u001b[0m\n\u001b[0;32m----> 1\u001b[0m \u001b[43mplt\u001b[49m\u001b[38;5;241;43m.\u001b[39;49m\u001b[43mscatter\u001b[49m\u001b[43m(\u001b[49m\u001b[43mdata_m\u001b[49m\u001b[43m,\u001b[49m\u001b[43m \u001b[49m\u001b[43mbins\u001b[49m\u001b[38;5;241;43m=\u001b[39;49m\u001b[38;5;241;43m20\u001b[39;49m\u001b[43m,\u001b[49m\u001b[43m \u001b[49m\u001b[43mcolor\u001b[49m\u001b[38;5;241;43m=\u001b[39;49m\u001b[38;5;124;43m'\u001b[39;49m\u001b[38;5;124;43mblue\u001b[39;49m\u001b[38;5;124;43m'\u001b[39;49m\u001b[43m,\u001b[49m\u001b[43m \u001b[49m\u001b[43malpha\u001b[49m\u001b[38;5;241;43m=\u001b[39;49m\u001b[38;5;241;43m0.7\u001b[39;49m\u001b[43m,\u001b[49m\u001b[43m \u001b[49m\u001b[43mlabel\u001b[49m\u001b[38;5;241;43m=\u001b[39;49m\u001b[38;5;124;43m'\u001b[39;49m\u001b[38;5;124;43mData 1\u001b[39;49m\u001b[38;5;124;43m'\u001b[39;49m\u001b[43m)\u001b[49m\n\u001b[1;32m      3\u001b[0m \u001b[38;5;66;03m# Create a histogram for data2 (red bars)\u001b[39;00m\n\u001b[1;32m      4\u001b[0m plt\u001b[38;5;241m.\u001b[39mscatter(data_n, bins\u001b[38;5;241m=\u001b[39m\u001b[38;5;241m20\u001b[39m, color\u001b[38;5;241m=\u001b[39m\u001b[38;5;124m'\u001b[39m\u001b[38;5;124mred\u001b[39m\u001b[38;5;124m'\u001b[39m, alpha\u001b[38;5;241m=\u001b[39m\u001b[38;5;241m0.7\u001b[39m, label\u001b[38;5;241m=\u001b[39m\u001b[38;5;124m'\u001b[39m\u001b[38;5;124mData 2\u001b[39m\u001b[38;5;124m'\u001b[39m)\n",
      "\u001b[0;31mTypeError\u001b[0m: scatter() missing 1 required positional argument: 'y'"
     ]
    }
   ],
   "source": [
    "plt.scatter(data_m, bins=20, color='blue', alpha=0.7, label='Data 1')\n",
    "\n",
    "# Create a histogram for data2 (red bars)\n",
    "plt.scatter(data_n, bins=20, color='red', alpha=0.7, label='Data 2')"
   ]
  },
  {
   "cell_type": "raw",
   "id": "b241a6f9",
   "metadata": {},
   "source": [
    "plt.hist(data_m, bins=20, color='blue', alpha=0.7, label='Data 1')\n",
    "\n",
    "# Create a histogram for data2 (red bars)\n",
    "plt.hist(data_n, bins=20, color='red', alpha=0.7, label='Data 2')"
   ]
  },
  {
   "cell_type": "code",
   "execution_count": 7,
   "id": "1f392d88",
   "metadata": {},
   "outputs": [
    {
     "data": {
      "text/plain": [
       "{'8eBU4QfrFL4': 0.2627450064765896,\n",
       " '1-jnsbRQYCM': 0.26208635589803664,\n",
       " 'V7xk-kgpZmk': 0.3558261743236537,\n",
       " 'qB-E8q3yK4Q': 0.32733089724614794,\n",
       " 'ke0YxzcZ1w4': 0.4549914748554496,\n",
       " 'OGilPWdaikI': 0.21705565239359706,\n",
       " '9FSubSIXleo': 0.9099676085814716,\n",
       " 'RHbDxf4EKb0': 0.4253808794266013,\n",
       " 'jGuN68Z9rAY': 0.15433597491557513,\n",
       " 'n1MIslYNju8': 0.6134641351345013,\n",
       " 'McgjTFyCTfA': 0.13344042161190492,\n",
       " 'qTPKGVrFtQU': 0.18724598751090854,\n",
       " 'Q_EAYzJFt2g': 0.518258128156821,\n",
       " 'NM08R4kWcB8': 0.27675932474311954,\n",
       " 'kMsWyPjRUZE': 0.31417895739414325,\n",
       " 'IsS_d1FUJRU': 0.7164702533538562,\n",
       " 'Ac533ZkHD5I': 0.4265313987476557,\n",
       " '6-GlYzwQkt8': 0.6408029655628088,\n",
       " 'i49TpqT2bps': 0.34942621317975764,\n",
       " 'ibIYI4A_1PU': 0.5719245972595263,\n",
       " 'nQRRtfv32Cs': 0.5541197916428751,\n",
       " 'wdMEFFNou3Y': 0.21648792259457214,\n",
       " 'jN1iAqW_SAY': 0.5764511052026678,\n",
       " 'R2XlDqK6QYs': 0.7227266130453698,\n",
       " 'Pp395_y5iAY': 0.2878323549453478,\n",
       " 'XkPO0aGiwY8': 0.36189257984169004,\n",
       " 'CiqD1W_xcs4': 0.27532993477606094}"
      ]
     },
     "execution_count": 7,
     "metadata": {},
     "output_type": "execute_result"
    }
   ],
   "source": [
    "for k in m.keys():\n",
    "    if isinstance(m[k], str):\n",
    "        m[k] = eval(m[k])\n",
    "m"
   ]
  },
  {
   "cell_type": "code",
   "execution_count": 12,
   "id": "26e1f64d",
   "metadata": {},
   "outputs": [],
   "source": [
    "n = {#'IJarJcOY8uU': 0.5416577065488487,\n",
    " 'LN9RYIR2GyA': 0.6245125018169723,\n",
    " 'zhL4N9uXQO4': 0.8639062871118905,\n",
    " '33te_Pqn9CY': 0.648065124574657,\n",
    " 'O0U3soa2FY4': 0.8436315432143237,\n",
    " 'Hv0lzJZkfqU': 0.6063747992040691,\n",
    " 'XTaBAksP1d8': 0.4122338800326437,\n",
    " 'vFmSrHcm1_0': 0.8908526789612835,\n",
    " 'su7G18Flmpg': 0.9901220787098525,\n",
    " #'wzYeeEq_bpE': 0.5412414031902123,\n",
    " 'ABdevFdahy4': 0.6613431464847749,\n",
    " 'RBmeiMZQLsA': 0.9915925175788288,\n",
    " 'fEMqCktQEJo': 0.8599246765363064,\n",
    " 'H9jjNPfeWmA': 0.16595943083483156,\n",
    " '8LX4earN0gY': 0.43478139784307956,\n",
    " 'obPT0w4LPow': 0.9002384893980774,\n",
    " 'pSlCKuSSdkA': 0.5581156188899443,\n",
    " 'nFMunlQ4ZrM': 0.5355585349572771,\n",
    " 'S1-xgIAVK4s': 0.2832637194028228,\n",
    " #'TtA4Txii0us': 0.41027434155923603,\n",
    " 'P5lDJYAsy_E': 0.878871902269137,\n",
    " 'TtTsNNXrRU0': 0.8320166385714032}"
   ]
  },
  {
   "cell_type": "code",
   "execution_count": 258,
   "id": "0f69d5bf",
   "metadata": {},
   "outputs": [],
   "source": [
    "json.dump(n, open('static.json', 'w'))"
   ]
  },
  {
   "cell_type": "code",
   "execution_count": 128,
   "id": "0b677a35",
   "metadata": {},
   "outputs": [],
   "source": [
    "#his_similarity_vlist_static=[]"
   ]
  },
  {
   "cell_type": "code",
   "execution_count": 220,
   "id": "af884b94",
   "metadata": {},
   "outputs": [],
   "source": [
    "his_similarity_vlist_static.append(video_info)"
   ]
  },
  {
   "cell_type": "code",
   "execution_count": 222,
   "id": "133a06d9",
   "metadata": {},
   "outputs": [
    {
     "data": {
      "text/plain": [
       "22"
      ]
     },
     "execution_count": 222,
     "metadata": {},
     "output_type": "execute_result"
    }
   ],
   "source": [
    "len(his_similarity_vlist_static)"
   ]
  },
  {
   "cell_type": "code",
   "execution_count": 223,
   "id": "fd1b8d0b",
   "metadata": {},
   "outputs": [
    {
     "data": {
      "text/plain": [
       "[{'vid: ': 'IJarJcOY8uU', 'difference mean: ': 0.5416577065488487},\n",
       " {'vid: ': 'LN9RYIR2GyA', 'difference mean: ': 0.6245125018169723},\n",
       " {'vid: ': 'zhL4N9uXQO4', 'difference mean: ': 0.8639062871118905},\n",
       " {'vid: ': '33te_Pqn9CY', 'difference mean: ': 0.648065124574657},\n",
       " {'vid: ': 'O0U3soa2FY4', 'difference mean: ': 0.8436315432143237},\n",
       " {'vid: ': 'Hv0lzJZkfqU', 'difference mean: ': 0.6063747992040691},\n",
       " {'vid: ': 'XTaBAksP1d8', 'difference mean: ': 0.4122338800326437},\n",
       " {'vid: ': 'vFmSrHcm1_0', 'difference mean: ': 0.8908526789612835},\n",
       " {'vid: ': 'su7G18Flmpg', 'difference mean: ': 0.9901220787098525},\n",
       " {'vid: ': 'wzYeeEq_bpE', 'difference mean: ': 0.5412414031902123},\n",
       " {'vid: ': 'ABdevFdahy4', 'difference mean: ': 0.6613431464847749},\n",
       " {'vid: ': 'fEMqCktQEJo', 'difference mean: ': 0.9915925175788288},\n",
       " {'vid: ': 'H9jjNPfeWmA', 'difference mean: ': 0.8599246765363064},\n",
       " {'vid: ': '8LX4earN0gY', 'difference mean: ': 0.16595943083483156},\n",
       " {'vid: ': 'obPT0w4LPow', 'difference mean: ': 0.43478139784307956},\n",
       " {'vid: ': 'pSlCKuSSdkA', 'difference mean: ': 0.9002384893980774},\n",
       " {'vid: ': 'nFMunlQ4ZrM', 'difference mean: ': 0.5581156188899443},\n",
       " {'vid: ': 'S1-xgIAVK4s', 'difference mean: ': 0.5355585349572771},\n",
       " {'vid: ': 'TtA4Txii0us', 'difference mean: ': 0.2832637194028228},\n",
       " {'vid: ': 'P5lDJYAsy_E', 'difference mean: ': 0.41027434155923603},\n",
       " {'vid: ': 'xbSp0TxZpM4', 'difference mean: ': 0.878871902269137},\n",
       " {'vid: ': 'NQU7dxNJZEs', 'difference mean: ': 0.8320166385714032}]"
      ]
     },
     "execution_count": 223,
     "metadata": {},
     "output_type": "execute_result"
    }
   ],
   "source": [
    "his_similarity_vlist_static"
   ]
  },
  {
   "cell_type": "code",
   "execution_count": 218,
   "id": "370ceb6e",
   "metadata": {},
   "outputs": [
    {
     "data": {
      "text/plain": [
       "25"
      ]
     },
     "execution_count": 218,
     "metadata": {},
     "output_type": "execute_result"
    }
   ],
   "source": [
    "len(v_list_static)"
   ]
  },
  {
   "cell_type": "code",
   "execution_count": 228,
   "id": "6081b192",
   "metadata": {},
   "outputs": [],
   "source": [
    "keys = []\n",
    "val = []\n",
    "for i in range(22):\n",
    "    if i >= 21:\n",
    "        keys.append(v_list_static[i+1])\n",
    "        val.append(his_similarity_vlist_static[i]['difference mean: '])\n",
    "    else:\n",
    "        keys.append(v_list_static[i])\n",
    "        val.append(his_similarity_vlist_static[i]['difference mean: '])\n",
    "        "
   ]
  },
  {
   "cell_type": "code",
   "execution_count": 233,
   "id": "a94e1aa2",
   "metadata": {},
   "outputs": [
    {
     "data": {
      "text/plain": [
       "{'IJarJcOY8uU': 0.5416577065488487,\n",
       " 'LN9RYIR2GyA': 0.6245125018169723,\n",
       " 'zhL4N9uXQO4': 0.8639062871118905,\n",
       " '33te_Pqn9CY': 0.648065124574657,\n",
       " 'O0U3soa2FY4': 0.8436315432143237,\n",
       " 'Hv0lzJZkfqU': 0.6063747992040691,\n",
       " 'XTaBAksP1d8': 0.4122338800326437,\n",
       " 'vFmSrHcm1_0': 0.8908526789612835,\n",
       " 'su7G18Flmpg': 0.9901220787098525,\n",
       " 'wzYeeEq_bpE': 0.5412414031902123,\n",
       " 'ABdevFdahy4': 0.6613431464847749,\n",
       " 'RBmeiMZQLsA': 0.9915925175788288,\n",
       " 'fEMqCktQEJo': 0.8599246765363064,\n",
       " 'H9jjNPfeWmA': 0.16595943083483156,\n",
       " '8LX4earN0gY': 0.43478139784307956,\n",
       " 'obPT0w4LPow': 0.9002384893980774,\n",
       " 'pSlCKuSSdkA': 0.5581156188899443,\n",
       " 'nFMunlQ4ZrM': 0.5355585349572771,\n",
       " 'S1-xgIAVK4s': 0.2832637194028228,\n",
       " 'TtA4Txii0us': 0.41027434155923603,\n",
       " 'P5lDJYAsy_E': 0.878871902269137,\n",
       " 'TtTsNNXrRU0': 0.8320166385714032}"
      ]
     },
     "execution_count": 233,
     "metadata": {},
     "output_type": "execute_result"
    }
   ],
   "source": [
    "n = {}\n",
    "for k, v in zip(keys, val):\n",
    "    n[k] = v\n",
    "n"
   ]
  },
  {
   "cell_type": "code",
   "execution_count": 11,
   "id": "837e01e5",
   "metadata": {},
   "outputs": [],
   "source": [
    "v_list_static=[\"IJarJcOY8uU\",\"LN9RYIR2GyA\",\"zhL4N9uXQO4\",\"33te_Pqn9CY\",\"O0U3soa2FY4\",\"Hv0lzJZkfqU\",\"XTaBAksP1d8\",\"vFmSrHcm1_0\",\"su7G18Flmpg\",\"wzYeeEq_bpE\",\"ABdevFdahy4\",\"RBmeiMZQLsA\",\"fEMqCktQEJo\",\"H9jjNPfeWmA\",\"8LX4earN0gY\",\"obPT0w4LPow\",\"pSlCKuSSdkA\",\"nFMunlQ4ZrM\",\"S1-xgIAVK4s\",\"TtA4Txii0us\",\"P5lDJYAsy_E\",\"xbSp0TxZpM4\",\"TtTsNNXrRU0\",\"NQU7dxNJZEs\",\"Vbia3YSI3pY\"]\n",
    "\n",
    "v_list_move = [\n",
    "    \"i49TpqT2bps\",\n",
    "    \"ibIYI4A_1PU\",\n",
    "    \"nQRRtfv32Cs\",\n",
    "    \"wdMEFFNou3Y\",\n",
    "    \"jN1iAqW_SAY\",\n",
    "    \"R2XlDqK6QYs\",\n",
    "\t\"Pp395_y5iAY\",\n",
    "\t\"XkPO0aGiwY8\",\n",
    "\t\"CiqD1W_xcs4\",\n",
    "    \"Xn_7rwAHpPs\",\n",
    "    \"8eBU4QfrFL4\",\n",
    "    \"1-jnsbRQYCM\",\n",
    "    \"V7xk-kgpZmk\",\n",
    "    \"qB-E8q3yK4Q\",\n",
    "    \"ke0YxzcZ1w4\",\n",
    "    \"OGilPWdaikI\",\n",
    "    \"9FSubSIXleo\",\n",
    "    \"RHbDxf4EKb0\",\n",
    "    \"jGuN68Z9rAY\",\n",
    "    \"n1MIslYNju8\",\n",
    "    \"McgjTFyCTfA\",\n",
    "    \"qTPKGVrFtQU\",\n",
    "    \"Q_EAYzJFt2g\",\n",
    "    \"NM08R4kWcB8\",\n",
    "    \"kMsWyPjRUZE\",\n",
    "    \"IsS_d1FUJRU\",\n",
    "    \"Ac533ZkHD5I\",\n",
    "    \"ZNSwYGkDtNY\",\n",
    "    \"6-GlYzwQkt8\"\n",
    "  ]\n",
    "\n",
    "v_list_static=[\"IJarJcOY8uU\",\"LN9RYIR2GyA\",\"zhL4N9uXQO4\",\"33te_Pqn9CY\",\"O0U3soa2FY4\",\"Hv0lzJZkfqU\",\"XTaBAksP1d8\",\"vFmSrHcm1_0\",\"su7G18Flmpg\",\"wzYeeEq_bpE\",\"ABdevFdahy4\",\"RBmeiMZQLsA\",\"fEMqCktQEJo\",\"H9jjNPfeWmA\",\"8LX4earN0gY\",\"obPT0w4LPow\",\"pSlCKuSSdkA\",\"nFMunlQ4ZrM\",\"S1-xgIAVK4s\",\"TtA4Txii0us\",\"P5lDJYAsy_E\",\"xbSp0TxZpM4\",\"TtTsNNXrRU0\",\"NQU7dxNJZEs\",\"Vbia3YSI3pY\"]\n"
   ]
  },
  {
   "cell_type": "code",
   "execution_count": 106,
   "id": "f812f2b0",
   "metadata": {},
   "outputs": [],
   "source": [
    "value = []\n",
    "vids = []\n",
    "for di in his_similarity_vlist_02:\n",
    "    value.append(di['difference mean: '])\n",
    "for i in range(len(v_list_move)):\n",
    "    if i > 9 and not i == 27:\n",
    "        vids.append(v_list_move[i])"
   ]
  },
  {
   "cell_type": "code",
   "execution_count": 120,
   "id": "5ff413c1",
   "metadata": {},
   "outputs": [],
   "source": [
    "result = zip(vids, value)"
   ]
  },
  {
   "cell_type": "code",
   "execution_count": 121,
   "id": "2327383f",
   "metadata": {},
   "outputs": [],
   "source": [
    "m = {}"
   ]
  },
  {
   "cell_type": "code",
   "execution_count": 232,
   "id": "7a68ac0e",
   "metadata": {},
   "outputs": [],
   "source": [
    "import json\n",
    "json.dump(m, open('moved_video.json', 'w'))"
   ]
  },
  {
   "cell_type": "code",
   "execution_count": 122,
   "id": "a2526880",
   "metadata": {},
   "outputs": [
    {
     "name": "stdout",
     "output_type": "stream",
     "text": [
      "8eBU4QfrFL4\n",
      "1-jnsbRQYCM\n",
      "V7xk-kgpZmk\n",
      "qB-E8q3yK4Q\n",
      "ke0YxzcZ1w4\n",
      "OGilPWdaikI\n",
      "9FSubSIXleo\n",
      "RHbDxf4EKb0\n",
      "jGuN68Z9rAY\n",
      "n1MIslYNju8\n",
      "McgjTFyCTfA\n",
      "qTPKGVrFtQU\n",
      "Q_EAYzJFt2g\n",
      "NM08R4kWcB8\n",
      "kMsWyPjRUZE\n",
      "IsS_d1FUJRU\n",
      "Ac533ZkHD5I\n",
      "6-GlYzwQkt8\n"
     ]
    }
   ],
   "source": [
    "for v, va in result:\n",
    "    m[str(v)] = str(va)"
   ]
  },
  {
   "cell_type": "code",
   "execution_count": 124,
   "id": "ad913fcc",
   "metadata": {},
   "outputs": [],
   "source": [
    "li = [{'vid: ': 'i49TpqT2bps', 'difference mean: ': 0.34942621317975764},\n",
    " {'vid: ': 'ibIYI4A_1PU', 'difference mean: ': 0.5719245972595263},\n",
    " {'vid: ': 'nQRRtfv32Cs', 'difference mean: ': 0.5541197916428751},\n",
    " {'vid: ': 'wdMEFFNou3Y', 'difference mean: ': 0.21648792259457214},\n",
    " {'vid: ': 'jN1iAqW_SAY', 'difference mean: ': 0.5764511052026678},\n",
    " {'vid: ': 'R2XlDqK6QYs', 'difference mean: ': 0.7227266130453698},\n",
    " {'vid: ': 'Pp395_y5iAY', 'difference mean: ': 0.2878323549453478},\n",
    " {'vid: ': 'XkPO0aGiwY8', 'difference mean: ': 0.36189257984169004},\n",
    " {'vid: ': 'CiqD1W_xcs4', 'difference mean: ': 0.27532993477606094}]"
   ]
  },
  {
   "cell_type": "code",
   "execution_count": 125,
   "id": "6472d5d7",
   "metadata": {},
   "outputs": [],
   "source": [
    "for l in li:\n",
    "    m[l['vid: ']] = l['difference mean: ']"
   ]
  },
  {
   "cell_type": "code",
   "execution_count": 127,
   "id": "8f56a4e1",
   "metadata": {},
   "outputs": [
    {
     "data": {
      "text/plain": [
       "27"
      ]
     },
     "execution_count": 127,
     "metadata": {},
     "output_type": "execute_result"
    }
   ],
   "source": [
    "len(m.keys())"
   ]
  },
  {
   "cell_type": "code",
   "execution_count": 126,
   "id": "2625c0d2",
   "metadata": {},
   "outputs": [
    {
     "data": {
      "text/plain": [
       "{'8eBU4QfrFL4': '0.2627450064765896',\n",
       " '1-jnsbRQYCM': '0.26208635589803664',\n",
       " 'V7xk-kgpZmk': '0.3558261743236537',\n",
       " 'qB-E8q3yK4Q': '0.32733089724614794',\n",
       " 'ke0YxzcZ1w4': '0.4549914748554496',\n",
       " 'OGilPWdaikI': '0.21705565239359706',\n",
       " '9FSubSIXleo': '0.9099676085814716',\n",
       " 'RHbDxf4EKb0': '0.4253808794266013',\n",
       " 'jGuN68Z9rAY': '0.15433597491557513',\n",
       " 'n1MIslYNju8': '0.6134641351345013',\n",
       " 'McgjTFyCTfA': '0.13344042161190492',\n",
       " 'qTPKGVrFtQU': '0.18724598751090854',\n",
       " 'Q_EAYzJFt2g': '0.518258128156821',\n",
       " 'NM08R4kWcB8': '0.27675932474311954',\n",
       " 'kMsWyPjRUZE': '0.31417895739414325',\n",
       " 'IsS_d1FUJRU': '0.7164702533538562',\n",
       " 'Ac533ZkHD5I': '0.4265313987476557',\n",
       " '6-GlYzwQkt8': '0.6408029655628088',\n",
       " 'i49TpqT2bps': 0.34942621317975764,\n",
       " 'ibIYI4A_1PU': 0.5719245972595263,\n",
       " 'nQRRtfv32Cs': 0.5541197916428751,\n",
       " 'wdMEFFNou3Y': 0.21648792259457214,\n",
       " 'jN1iAqW_SAY': 0.5764511052026678,\n",
       " 'R2XlDqK6QYs': 0.7227266130453698,\n",
       " 'Pp395_y5iAY': 0.2878323549453478,\n",
       " 'XkPO0aGiwY8': 0.36189257984169004,\n",
       " 'CiqD1W_xcs4': 0.27532993477606094}"
      ]
     },
     "execution_count": 126,
     "metadata": {},
     "output_type": "execute_result"
    }
   ],
   "source": [
    "m"
   ]
  },
  {
   "cell_type": "code",
   "execution_count": null,
   "id": "f2fe4de0",
   "metadata": {},
   "outputs": [],
   "source": [
    "his_similarity_vlist_02"
   ]
  },
  {
   "cell_type": "code",
   "execution_count": 90,
   "id": "c6e6ca7a",
   "metadata": {},
   "outputs": [
    {
     "data": {
      "text/plain": [
       "29"
      ]
     },
     "execution_count": 90,
     "metadata": {},
     "output_type": "execute_result"
    }
   ],
   "source": [
    "len(v_list_move)"
   ]
  },
  {
   "cell_type": "code",
   "execution_count": null,
   "id": "800d220b",
   "metadata": {},
   "outputs": [],
   "source": [
    "his_similarity_vlist_move"
   ]
  },
  {
   "cell_type": "code",
   "execution_count": null,
   "id": "2ad8086d",
   "metadata": {},
   "outputs": [],
   "source": [
    "his_similarity_vlist_static=get_allVideo_mean_differenceInlist_his(v_list_static)"
   ]
  },
  {
   "cell_type": "code",
   "execution_count": null,
   "id": "9a55ef8e",
   "metadata": {},
   "outputs": [],
   "source": [
    "his_similarity_vlist_static"
   ]
  }
 ],
 "metadata": {
  "kernelspec": {
   "display_name": "Python 3 (ipykernel)",
   "language": "python",
   "name": "python3"
  },
  "language_info": {
   "codemirror_mode": {
    "name": "ipython",
    "version": 3
   },
   "file_extension": ".py",
   "mimetype": "text/x-python",
   "name": "python",
   "nbconvert_exporter": "python",
   "pygments_lexer": "ipython3",
   "version": "3.9.12"
  }
 },
 "nbformat": 4,
 "nbformat_minor": 5
}
